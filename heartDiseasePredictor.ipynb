{
  "nbformat": 4,
  "nbformat_minor": 0,
  "metadata": {
    "colab": {
      "name": "cerros_midterm_3.ipynb",
      "provenance": [],
      "collapsed_sections": []
    },
    "kernelspec": {
      "name": "python3",
      "display_name": "Python 3"
    }
  },
  "cells": [
    {
      "cell_type": "code",
      "metadata": {
        "id": "IEB8o45_i5qd",
        "colab": {
          "base_uri": "https://localhost:8080/",
          "height": 263
        },
        "outputId": "c119b84b-999e-4867-9b52-83ffa42142c4"
      },
      "source": [
        "import pandas as pd\n",
        "# Part A\n",
        "# Reading data from csv file\n",
        "\n",
        "url = 'https://raw.githubusercontent.com/Marcelpv96/Heart-Disease-UCI/master/data/heart.csv'\n",
        "data = pd.read_csv(url)\n",
        "\n",
        "print(data)"
      ],
      "execution_count": null,
      "outputs": [
        {
          "output_type": "stream",
          "text": [
            "     age  sex  cp  trestbps  chol  fbs  ...  exang  oldpeak  slope  ca  thal  target\n",
            "0     63    1   3       145   233    1  ...      0      2.3      0   0     1       1\n",
            "1     37    1   2       130   250    0  ...      0      3.5      0   0     2       1\n",
            "2     41    0   1       130   204    0  ...      0      1.4      2   0     2       1\n",
            "3     56    1   1       120   236    0  ...      0      0.8      2   0     2       1\n",
            "4     57    0   0       120   354    0  ...      1      0.6      2   0     2       1\n",
            "..   ...  ...  ..       ...   ...  ...  ...    ...      ...    ...  ..   ...     ...\n",
            "298   57    0   0       140   241    0  ...      1      0.2      1   0     3       0\n",
            "299   45    1   3       110   264    0  ...      0      1.2      1   0     3       0\n",
            "300   68    1   0       144   193    1  ...      0      3.4      1   2     3       0\n",
            "301   57    1   0       130   131    0  ...      1      1.2      1   1     3       0\n",
            "302   57    0   1       130   236    0  ...      0      0.0      1   1     2       0\n",
            "\n",
            "[303 rows x 14 columns]\n"
          ],
          "name": "stdout"
        }
      ]
    },
    {
      "cell_type": "code",
      "metadata": {
        "id": "YXSBiiNcjjzJ",
        "colab": {
          "base_uri": "https://localhost:8080/",
          "height": 70
        },
        "outputId": "bf4393d1-237e-4d1d-eb0b-185f3c2b926a"
      },
      "source": [
        "# Building model based on 13 features\n",
        "from sklearn.model_selection import train_test_split\n",
        "from sklearn.linear_model import LogisticRegression\n",
        "from sklearn import metrics\n",
        "\n",
        "# Getting our features and label\n",
        "X = data.iloc[:, :-1] \n",
        "y = data.iloc[:, -1]\n",
        "\n",
        "\n",
        "# Normalizing Data\n",
        "mean = X.mean(axis=0)\n",
        "std = X.std(axis=0)\n",
        "X -= mean\n",
        "X /= std\n",
        "\n",
        "# split X and y into training and testing sets: 80% & 20%\n",
        "X_train,X_test,y_train,y_test=train_test_split(X,y,test_size=0.20,random_state=0)\n",
        "\n",
        "# Building Model\n",
        "model = LogisticRegression()\n",
        "model.fit(X_train,y_train)\n",
        "\n",
        "y_pred = model.predict(X_test)\n",
        "\n",
        "\n",
        "print(\"Accuracy:\",metrics.accuracy_score(y_test, y_pred))\n",
        "print(\"Precision:\",metrics.precision_score(y_test, y_pred))\n",
        "print(\"Recall:\",metrics.recall_score(y_test, y_pred))"
      ],
      "execution_count": null,
      "outputs": [
        {
          "output_type": "stream",
          "text": [
            "Accuracy: 0.8524590163934426\n",
            "Precision: 0.8378378378378378\n",
            "Recall: 0.9117647058823529\n"
          ],
          "name": "stdout"
        }
      ]
    },
    {
      "cell_type": "code",
      "metadata": {
        "id": "mwbA8XX9mEm3",
        "colab": {
          "base_uri": "https://localhost:8080/",
          "height": 35
        },
        "outputId": "c3ae088c-8758-42e2-9445-233c95758ebf"
      },
      "source": [
        "import numpy as np\n",
        "\n",
        "# Creating our features we want to get a prediction for\n",
        "pred_one = np.array([37, 0, 0, 129, 245, 0, 1, 183, 1, .6, 1, 0, 2])\n",
        "pred_two = np.array([54, 1, 2, 145, 354, 0, 1, 153, 0, 1.4, 1, 0, 1])\n",
        "pred_one = np.array(pred_one).reshape(-1, 13)\n",
        "pred_two = np.array(pred_two).reshape(-1, 13)\n",
        "\n",
        "\n",
        "# Normalizing data we want to predict\n",
        "pred_one -= mean\n",
        "pred_one /= std\n",
        "pred_two -= mean\n",
        "pred_two /= std\n",
        "\n",
        "\n",
        "\n",
        "pred = model.predict(pred_one)\n",
        "print('Prediction for Person One:', pred)\n",
        "pred = model.predict(pred_two)\n",
        "print('Prediction for Person Two:', pred)"
      ],
      "execution_count": null,
      "outputs": [
        {
          "output_type": "stream",
          "text": [
            "Prediction for Person One: [1]\n"
          ],
          "name": "stdout"
        }
      ]
    }
  ]
}